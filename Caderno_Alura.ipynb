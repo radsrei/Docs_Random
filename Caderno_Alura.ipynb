{
  "nbformat": 4,
  "nbformat_minor": 0,
  "metadata": {
    "colab": {
      "provenance": [],
      "toc_visible": true,
      "authorship_tag": "ABX9TyOHwYF9X5LFy7VrRu0Z5owu",
      "include_colab_link": true
    },
    "kernelspec": {
      "name": "python3",
      "display_name": "Python 3"
    },
    "language_info": {
      "name": "python"
    }
  },
  "cells": [
    {
      "cell_type": "markdown",
      "metadata": {
        "id": "view-in-github",
        "colab_type": "text"
      },
      "source": [
        "<a href=\"https://colab.research.google.com/github/radsrei/Docs_Random/blob/main/Caderno_Alura.ipynb\" target=\"_parent\"><img src=\"https://colab.research.google.com/assets/colab-badge.svg\" alt=\"Open In Colab\"/></a>"
      ]
    },
    {
      "cell_type": "markdown",
      "source": [
        "#Caderno de estudo\n",
        "Informações básicas e entradas simples em python\n"
      ],
      "metadata": {
        "id": "ivUnq39oW0uc"
      }
    },
    {
      "cell_type": "markdown",
      "source": [
        "##Introdução básica"
      ],
      "metadata": {
        "id": "UoDphGfPW7FE"
      }
    },
    {
      "cell_type": "markdown",
      "source": [
        "###Importação de bibliotecas"
      ],
      "metadata": {
        "id": "9vXlPac5XUcA"
      }
    },
    {
      "cell_type": "code",
      "execution_count": null,
      "metadata": {
        "id": "A254y4b8WxCK"
      },
      "outputs": [],
      "source": [
        "import nump as np\n",
        "import pandas as pd\n",
        "import matplotlib.pyplot as plt"
      ]
    },
    {
      "cell_type": "markdown",
      "source": [
        "###Declaração de variaveis"
      ],
      "metadata": {
        "id": "8x7NhEBLXYW2"
      }
    },
    {
      "cell_type": "code",
      "source": [
        "x = 5\n",
        "y = 10\n",
        "z = x + y"
      ],
      "metadata": {
        "id": "_bxi08ItXiFC"
      },
      "execution_count": null,
      "outputs": []
    },
    {
      "cell_type": "markdown",
      "source": [
        "###Input e Output"
      ],
      "metadata": {
        "id": "usNG2lNkXaxJ"
      }
    },
    {
      "cell_type": "code",
      "source": [
        "atividade_A = int(input(\"Informe os dias para a atividade A: \"))\n",
        "atividade_B = int(input(\"Informe os dias para a atividade B: \"))\n",
        "atividade_C = int(input(\"Informe os dias para a atividade C: \"))\n",
        "\n",
        "if atividade_A < 0 or atividade_B < 0 or atividade_C < 0:\n",
        "    print(\"Erro: Os dias não podem ser negativos.\")\n",
        "else:\n",
        "    tempo_total = atividade_A + atividade_B + atividade_C\n",
        "    print(f\"O tempo total do projeto é de {tempo_total} dias.\")"
      ],
      "metadata": {
        "id": "FWvBhpUQXgBx"
      },
      "execution_count": null,
      "outputs": []
    },
    {
      "cell_type": "markdown",
      "source": [
        "###Condisionais\n",
        "If e Else"
      ],
      "metadata": {
        "id": "VvLbqV0yXwFV"
      }
    },
    {
      "cell_type": "code",
      "source": [
        "temperatura = float(input(\"Digite a temperatura atual: \"))\n",
        "\n",
        "if temperatura > 25:\n",
        "    print(\"Alerta! Temperatura acima do limite permitido.\")\n",
        "else:\n",
        "    print(\"Temperatura dentro do limite seguro.\")"
      ],
      "metadata": {
        "id": "uPYC5DSlX0r0"
      },
      "execution_count": null,
      "outputs": []
    },
    {
      "cell_type": "markdown",
      "source": [
        "Caso If elif e else"
      ],
      "metadata": {
        "id": "CrCjsF8JX1LD"
      }
    },
    {
      "cell_type": "code",
      "source": [
        "peso = float(input(\"Digite seu peso (kg): \"))\n",
        "altura = float(input(\"Digite sua altura (m): \"))\n",
        "\n",
        "imc = peso / (altura ** 2)\n",
        "print(f\"Seu IMC é: {imc:.2f}\")\n",
        "\n",
        "if imc < 18.5:\n",
        "    print(\"Você está abaixo do peso.\")\n",
        "elif imc < 25:\n",
        "    print(\"Você está com peso normal.\")\n",
        "else:\n",
        "    print(\"Você está acima do peso.\")"
      ],
      "metadata": {
        "id": "VwDCVf8AX84x"
      },
      "execution_count": null,
      "outputs": []
    },
    {
      "cell_type": "markdown",
      "source": [
        "###Laços de Repetição\n",
        "Loop"
      ],
      "metadata": {
        "id": "KDjuwDeLbzKB"
      }
    },
    {
      "cell_type": "code",
      "source": [
        "clientes = [\"João\", \"Maria\", \"Carlos\", \"Ana\", \"Beatriz\"]\n",
        "\n",
        "for cliente in clientes:\n",
        "    print(cliente)"
      ],
      "metadata": {
        "id": "_BWLS_3sbyFl"
      },
      "execution_count": null,
      "outputs": []
    },
    {
      "cell_type": "code",
      "source": [
        "projetos = [\"website\", \"jogo\", \"análise de dados\", None, \"aplicativo móvel\"]\n",
        "\n",
        "for projeto in projetos:\n",
        "    if projeto is None:\n",
        "        print(\"Projeto ausente\")\n",
        "    else:\n",
        "        print(projeto)"
      ],
      "metadata": {
        "id": "jUqg1eddcPQn"
      },
      "execution_count": null,
      "outputs": []
    },
    {
      "cell_type": "code",
      "source": [
        "for segundos in range(10, 0, -1):\n",
        "    if segundos % 2 == 0:\n",
        "        print(f\"Faltam apenas {segundos} segundos - Não perca essa oportunidade!\")\n",
        "    else:\n",
        "        print(f\"A contagem continua: {segundos} segundos restantes.\")\n",
        "\n",
        "print(\"Aproveite a promoção agora!\")"
      ],
      "metadata": {
        "id": "Hlrh8WD1calY"
      },
      "execution_count": null,
      "outputs": []
    },
    {
      "cell_type": "markdown",
      "source": [
        "While"
      ],
      "metadata": {
        "id": "ZeeqG-6rcAlH"
      }
    },
    {
      "cell_type": "code",
      "source": [
        "contador = 0\n",
        "\n",
        "while contador < 10:\n",
        "    print(\"Processando dados...\")"
      ],
      "metadata": {
        "id": "QgsnzighcCo0"
      },
      "execution_count": null,
      "outputs": []
    },
    {
      "cell_type": "code",
      "source": [
        "estoque = 5\n",
        "\n",
        "while estoque > 0:\n",
        "    estoque -= 1\n",
        "    print(f\"Venda realizada! Estoque restante: {estoque}\")\n",
        "\n",
        "print(\"Estoque esgotado\")"
      ],
      "metadata": {
        "id": "mMTZf-CEcVFc"
      },
      "execution_count": null,
      "outputs": []
    },
    {
      "cell_type": "code",
      "source": [
        "while True:\n",
        "    nome_usuario = input(\"Digite seu nome de usuário: \")\n",
        "    senha = input(\"Digite sua senha: \")\n",
        "\n",
        "    if len(nome_usuario) < 5:\n",
        "        print(\"O nome de usuário deve ter pelo menos 5 caracteres.\")\n",
        "        continue\n",
        "\n",
        "    if len(senha) < 8:\n",
        "        print(\"A senha deve ter pelo menos 8 caracteres.\")\n",
        "        continue\n",
        "\n",
        "    print(\"Cadastro realizado com sucesso!\")\n",
        "    break"
      ],
      "metadata": {
        "id": "YvSZCBRNcj62"
      },
      "execution_count": null,
      "outputs": []
    }
  ]
}